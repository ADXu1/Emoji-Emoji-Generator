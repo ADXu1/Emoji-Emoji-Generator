{
  "nbformat": 4,
  "nbformat_minor": 0,
  "metadata": {
    "colab": {
      "provenance": [],
      "authorship_tag": "ABX9TyPRDPAwdQCvz0z6RHZ3+9Jy",
      "include_colab_link": true
    },
    "kernelspec": {
      "name": "python3",
      "display_name": "Python 3"
    },
    "language_info": {
      "name": "python"
    }
  },
  "cells": [
    {
      "cell_type": "markdown",
      "metadata": {
        "id": "view-in-github",
        "colab_type": "text"
      },
      "source": [
        "<a href=\"https://colab.research.google.com/github/ADXu1/Emoji-Emoji-Generator/blob/main/Untitled18.ipynb\" target=\"_parent\"><img src=\"https://colab.research.google.com/assets/colab-badge.svg\" alt=\"Open In Colab\"/></a>"
      ]
    },
    {
      "cell_type": "code",
      "execution_count": 1,
      "metadata": {
        "colab": {
          "base_uri": "https://localhost:8080/"
        },
        "id": "eWcPDUXoDAnP",
        "outputId": "7710d7a4-4c13-42e8-8ba0-cba092717258"
      },
      "outputs": [
        {
          "output_type": "stream",
          "name": "stdout",
          "text": [
            "fatal: destination path 'Emoji-Emoji-Generator' already exists and is not an empty directory.\n",
            "/content/Emoji-Emoji-Generator\n"
          ]
        }
      ],
      "source": [
        "!git clone https://github.com/ADXu1/Emoji-Emoji-Generator.git\n",
        "%cd Emoji-Emoji-Generator\n"
      ]
    },
    {
      "cell_type": "code",
      "source": [
        "!python -m venv\n",
        "!source venv/bin/activate  # On Windows: venv\\Scripts\\activate\n"
      ],
      "metadata": {
        "colab": {
          "base_uri": "https://localhost:8080/"
        },
        "id": "A1S1YMXJDFdu",
        "outputId": "f4598ccb-c082-4ef7-bd5b-84954b83bf38"
      },
      "execution_count": 2,
      "outputs": [
        {
          "output_type": "stream",
          "name": "stdout",
          "text": [
            "usage: venv\n",
            "       [-h]\n",
            "       [--system-site-packages]\n",
            "       [--symlinks | --copies]\n",
            "       [--clear]\n",
            "       [--upgrade]\n",
            "       [--without-pip]\n",
            "       [--prompt PROMPT]\n",
            "       [--upgrade-deps]\n",
            "       ENV_DIR\n",
            "       [ENV_DIR ...]\n",
            "venv: error: the following arguments are required: ENV_DIR\n",
            "/bin/bash: line 1: venv/bin/activate: No such file or directory\n"
          ]
        }
      ]
    },
    {
      "cell_type": "code",
      "source": [
        "!pip install -r requirements.txt\n"
      ],
      "metadata": {
        "colab": {
          "base_uri": "https://localhost:8080/"
        },
        "id": "OEs_heRADL1R",
        "outputId": "9f213710-b9e9-444d-9eaa-bb5c898312e2"
      },
      "execution_count": 3,
      "outputs": [
        {
          "output_type": "stream",
          "name": "stdout",
          "text": [
            "Requirement already satisfied: Flask==2.0.1 in /usr/local/lib/python3.10/dist-packages (from -r requirements.txt (line 1)) (2.0.1)\n",
            "Requirement already satisfied: requests==2.26.0 in /usr/local/lib/python3.10/dist-packages (from -r requirements.txt (line 2)) (2.26.0)\n",
            "Requirement already satisfied: numpy==1.21.2 in /usr/local/lib/python3.10/dist-packages (from -r requirements.txt (line 3)) (1.21.2)\n",
            "Requirement already satisfied: pandas==1.3.3 in /usr/local/lib/python3.10/dist-packages (from -r requirements.txt (line 4)) (1.3.3)\n",
            "Requirement already satisfied: Werkzeug>=2.0 in /usr/local/lib/python3.10/dist-packages (from Flask==2.0.1->-r requirements.txt (line 1)) (2.3.7)\n",
            "Requirement already satisfied: Jinja2>=3.0 in /usr/local/lib/python3.10/dist-packages (from Flask==2.0.1->-r requirements.txt (line 1)) (3.1.2)\n",
            "Requirement already satisfied: itsdangerous>=2.0 in /usr/local/lib/python3.10/dist-packages (from Flask==2.0.1->-r requirements.txt (line 1)) (2.1.2)\n",
            "Requirement already satisfied: click>=7.1.2 in /usr/local/lib/python3.10/dist-packages (from Flask==2.0.1->-r requirements.txt (line 1)) (8.1.6)\n",
            "Requirement already satisfied: urllib3<1.27,>=1.21.1 in /usr/local/lib/python3.10/dist-packages (from requests==2.26.0->-r requirements.txt (line 2)) (1.26.16)\n",
            "Requirement already satisfied: certifi>=2017.4.17 in /usr/local/lib/python3.10/dist-packages (from requests==2.26.0->-r requirements.txt (line 2)) (2023.7.22)\n",
            "Requirement already satisfied: charset-normalizer~=2.0.0 in /usr/local/lib/python3.10/dist-packages (from requests==2.26.0->-r requirements.txt (line 2)) (2.0.12)\n",
            "Requirement already satisfied: idna<4,>=2.5 in /usr/local/lib/python3.10/dist-packages (from requests==2.26.0->-r requirements.txt (line 2)) (3.4)\n",
            "Requirement already satisfied: python-dateutil>=2.7.3 in /usr/local/lib/python3.10/dist-packages (from pandas==1.3.3->-r requirements.txt (line 4)) (2.8.2)\n",
            "Requirement already satisfied: pytz>=2017.3 in /usr/local/lib/python3.10/dist-packages (from pandas==1.3.3->-r requirements.txt (line 4)) (2023.3)\n",
            "Requirement already satisfied: MarkupSafe>=2.0 in /usr/local/lib/python3.10/dist-packages (from Jinja2>=3.0->Flask==2.0.1->-r requirements.txt (line 1)) (2.1.3)\n",
            "Requirement already satisfied: six>=1.5 in /usr/local/lib/python3.10/dist-packages (from python-dateutil>=2.7.3->pandas==1.3.3->-r requirements.txt (line 4)) (1.16.0)\n"
          ]
        }
      ]
    },
    {
      "cell_type": "code",
      "source": [
        "!sudo python app.py"
      ],
      "metadata": {
        "id": "q-ddQJuBExJ-"
      },
      "execution_count": null,
      "outputs": []
    }
  ]
}